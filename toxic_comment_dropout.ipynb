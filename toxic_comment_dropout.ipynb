{
 "cells": [
  {
   "cell_type": "code",
   "execution_count": 1,
   "id": "b1beb1ac-05f0-4100-ab0d-d9776fc43c59",
   "metadata": {
    "collapsed": true,
    "jupyter": {
     "outputs_hidden": true
    },
    "tags": []
   },
   "outputs": [
    {
     "name": "stdout",
     "output_type": "stream",
     "text": [
      "Requirement already satisfied: tensorflow in c:\\users\\mudit\\anaconda3\\lib\\site-packages (2.10.0)\n",
      "Requirement already satisfied: tensorflow-gpu in c:\\users\\mudit\\anaconda3\\lib\\site-packages (2.10.0)\n",
      "Requirement already satisfied: pandas in c:\\users\\mudit\\anaconda3\\lib\\site-packages (1.4.2)\n",
      "Requirement already satisfied: matplotlib in c:\\users\\mudit\\anaconda3\\lib\\site-packages (3.5.1)\n",
      "Requirement already satisfied: sklearn in c:\\users\\mudit\\anaconda3\\lib\\site-packages (0.0)\n",
      "Requirement already satisfied: flatbuffers>=2.0 in c:\\users\\mudit\\anaconda3\\lib\\site-packages (from tensorflow) (22.9.24)\n",
      "Requirement already satisfied: typing-extensions>=3.6.6 in c:\\users\\mudit\\anaconda3\\lib\\site-packages (from tensorflow) (4.1.1)\n",
      "Requirement already satisfied: six>=1.12.0 in c:\\users\\mudit\\anaconda3\\lib\\site-packages (from tensorflow) (1.16.0)\n",
      "Requirement already satisfied: keras-preprocessing>=1.1.1 in c:\\users\\mudit\\anaconda3\\lib\\site-packages (from tensorflow) (1.1.2)\n",
      "Requirement already satisfied: setuptools in c:\\users\\mudit\\anaconda3\\lib\\site-packages (from tensorflow) (61.2.0)\n",
      "Requirement already satisfied: google-pasta>=0.1.1 in c:\\users\\mudit\\anaconda3\\lib\\site-packages (from tensorflow) (0.2.0)\n",
      "Requirement already satisfied: gast<=0.4.0,>=0.2.1 in c:\\users\\mudit\\anaconda3\\lib\\site-packages (from tensorflow) (0.4.0)\n",
      "Requirement already satisfied: opt-einsum>=2.3.2 in c:\\users\\mudit\\anaconda3\\lib\\site-packages (from tensorflow) (3.3.0)\n",
      "Requirement already satisfied: libclang>=13.0.0 in c:\\users\\mudit\\anaconda3\\lib\\site-packages (from tensorflow) (14.0.6)\n",
      "Requirement already satisfied: termcolor>=1.1.0 in c:\\users\\mudit\\anaconda3\\lib\\site-packages (from tensorflow) (2.0.1)\n",
      "Requirement already satisfied: numpy>=1.20 in c:\\users\\mudit\\anaconda3\\lib\\site-packages (from tensorflow) (1.21.5)\n",
      "Requirement already satisfied: packaging in c:\\users\\mudit\\anaconda3\\lib\\site-packages (from tensorflow) (21.3)\n",
      "Requirement already satisfied: grpcio<2.0,>=1.24.3 in c:\\users\\mudit\\anaconda3\\lib\\site-packages (from tensorflow) (1.42.0)\n",
      "Requirement already satisfied: tensorboard<2.11,>=2.10 in c:\\users\\mudit\\anaconda3\\lib\\site-packages (from tensorflow) (2.10.1)\n",
      "Requirement already satisfied: protobuf<3.20,>=3.9.2 in c:\\users\\mudit\\anaconda3\\lib\\site-packages (from tensorflow) (3.19.1)\n",
      "Requirement already satisfied: wrapt>=1.11.0 in c:\\users\\mudit\\anaconda3\\lib\\site-packages (from tensorflow) (1.12.1)\n",
      "Requirement already satisfied: absl-py>=1.0.0 in c:\\users\\mudit\\anaconda3\\lib\\site-packages (from tensorflow) (1.2.0)\n",
      "Requirement already satisfied: astunparse>=1.6.0 in c:\\users\\mudit\\anaconda3\\lib\\site-packages (from tensorflow) (1.6.3)\n",
      "Requirement already satisfied: keras<2.11,>=2.10.0 in c:\\users\\mudit\\anaconda3\\lib\\site-packages (from tensorflow) (2.10.0)\n",
      "Requirement already satisfied: tensorflow-estimator<2.11,>=2.10.0 in c:\\users\\mudit\\anaconda3\\lib\\site-packages (from tensorflow) (2.10.0)\n",
      "Requirement already satisfied: h5py>=2.9.0 in c:\\users\\mudit\\anaconda3\\lib\\site-packages (from tensorflow) (3.6.0)\n",
      "Requirement already satisfied: tensorflow-io-gcs-filesystem>=0.23.1 in c:\\users\\mudit\\anaconda3\\lib\\site-packages (from tensorflow) (0.27.0)\n",
      "Requirement already satisfied: python-dateutil>=2.8.1 in c:\\users\\mudit\\anaconda3\\lib\\site-packages (from pandas) (2.8.2)\n",
      "Requirement already satisfied: pytz>=2020.1 in c:\\users\\mudit\\anaconda3\\lib\\site-packages (from pandas) (2021.3)\n",
      "Requirement already satisfied: fonttools>=4.22.0 in c:\\users\\mudit\\anaconda3\\lib\\site-packages (from matplotlib) (4.25.0)\n",
      "Requirement already satisfied: pyparsing>=2.2.1 in c:\\users\\mudit\\anaconda3\\lib\\site-packages (from matplotlib) (3.0.4)\n",
      "Requirement already satisfied: pillow>=6.2.0 in c:\\users\\mudit\\anaconda3\\lib\\site-packages (from matplotlib) (9.0.1)\n",
      "Requirement already satisfied: kiwisolver>=1.0.1 in c:\\users\\mudit\\anaconda3\\lib\\site-packages (from matplotlib) (1.3.2)\n",
      "Requirement already satisfied: cycler>=0.10 in c:\\users\\mudit\\anaconda3\\lib\\site-packages (from matplotlib) (0.11.0)\n",
      "Requirement already satisfied: scikit-learn in c:\\users\\mudit\\anaconda3\\lib\\site-packages (from sklearn) (1.0.2)\n",
      "Requirement already satisfied: wheel<1.0,>=0.23.0 in c:\\users\\mudit\\anaconda3\\lib\\site-packages (from astunparse>=1.6.0->tensorflow) (0.37.1)\n",
      "Requirement already satisfied: requests<3,>=2.21.0 in c:\\users\\mudit\\anaconda3\\lib\\site-packages (from tensorboard<2.11,>=2.10->tensorflow) (2.27.1)\n",
      "Requirement already satisfied: google-auth-oauthlib<0.5,>=0.4.1 in c:\\users\\mudit\\anaconda3\\lib\\site-packages (from tensorboard<2.11,>=2.10->tensorflow) (0.4.6)\n",
      "Requirement already satisfied: markdown>=2.6.8 in c:\\users\\mudit\\anaconda3\\lib\\site-packages (from tensorboard<2.11,>=2.10->tensorflow) (3.3.4)\n",
      "Requirement already satisfied: werkzeug>=1.0.1 in c:\\users\\mudit\\anaconda3\\lib\\site-packages (from tensorboard<2.11,>=2.10->tensorflow) (2.0.3)\n",
      "Requirement already satisfied: tensorboard-plugin-wit>=1.6.0 in c:\\users\\mudit\\anaconda3\\lib\\site-packages (from tensorboard<2.11,>=2.10->tensorflow) (1.8.1)\n",
      "Requirement already satisfied: google-auth<3,>=1.6.3 in c:\\users\\mudit\\anaconda3\\lib\\site-packages (from tensorboard<2.11,>=2.10->tensorflow) (1.33.0)\n",
      "Requirement already satisfied: tensorboard-data-server<0.7.0,>=0.6.0 in c:\\users\\mudit\\anaconda3\\lib\\site-packages (from tensorboard<2.11,>=2.10->tensorflow) (0.6.1)\n",
      "Requirement already satisfied: pyasn1-modules>=0.2.1 in c:\\users\\mudit\\anaconda3\\lib\\site-packages (from google-auth<3,>=1.6.3->tensorboard<2.11,>=2.10->tensorflow) (0.2.8)\n",
      "Requirement already satisfied: rsa<5,>=3.1.4 in c:\\users\\mudit\\anaconda3\\lib\\site-packages (from google-auth<3,>=1.6.3->tensorboard<2.11,>=2.10->tensorflow) (4.7.2)\n",
      "Requirement already satisfied: cachetools<5.0,>=2.0.0 in c:\\users\\mudit\\anaconda3\\lib\\site-packages (from google-auth<3,>=1.6.3->tensorboard<2.11,>=2.10->tensorflow) (4.2.2)\n",
      "Requirement already satisfied: requests-oauthlib>=0.7.0 in c:\\users\\mudit\\anaconda3\\lib\\site-packages (from google-auth-oauthlib<0.5,>=0.4.1->tensorboard<2.11,>=2.10->tensorflow) (1.3.1)\n",
      "Requirement already satisfied: pyasn1<0.5.0,>=0.4.6 in c:\\users\\mudit\\anaconda3\\lib\\site-packages (from pyasn1-modules>=0.2.1->google-auth<3,>=1.6.3->tensorboard<2.11,>=2.10->tensorflow) (0.4.8)\n",
      "Requirement already satisfied: idna<4,>=2.5 in c:\\users\\mudit\\anaconda3\\lib\\site-packages (from requests<3,>=2.21.0->tensorboard<2.11,>=2.10->tensorflow) (3.3)\n",
      "Requirement already satisfied: urllib3<1.27,>=1.21.1 in c:\\users\\mudit\\anaconda3\\lib\\site-packages (from requests<3,>=2.21.0->tensorboard<2.11,>=2.10->tensorflow) (1.26.9)\n",
      "Requirement already satisfied: certifi>=2017.4.17 in c:\\users\\mudit\\anaconda3\\lib\\site-packages (from requests<3,>=2.21.0->tensorboard<2.11,>=2.10->tensorflow) (2021.10.8)\n",
      "Requirement already satisfied: charset-normalizer~=2.0.0 in c:\\users\\mudit\\anaconda3\\lib\\site-packages (from requests<3,>=2.21.0->tensorboard<2.11,>=2.10->tensorflow) (2.0.4)\n",
      "Requirement already satisfied: oauthlib>=3.0.0 in c:\\users\\mudit\\anaconda3\\lib\\site-packages (from requests-oauthlib>=0.7.0->google-auth-oauthlib<0.5,>=0.4.1->tensorboard<2.11,>=2.10->tensorflow) (3.2.1)\n",
      "Requirement already satisfied: scipy>=1.1.0 in c:\\users\\mudit\\anaconda3\\lib\\site-packages (from scikit-learn->sklearn) (1.7.3)\n",
      "Requirement already satisfied: threadpoolctl>=2.0.0 in c:\\users\\mudit\\anaconda3\\lib\\site-packages (from scikit-learn->sklearn) (2.2.0)\n",
      "Requirement already satisfied: joblib>=0.11 in c:\\users\\mudit\\anaconda3\\lib\\site-packages (from scikit-learn->sklearn) (1.1.0)\n"
     ]
    }
   ],
   "source": [
    "!pip install tensorflow tensorflow-gpu pandas matplotlib sklearn"
   ]
  },
  {
   "cell_type": "code",
   "execution_count": 2,
   "id": "9b226ff7-46c6-4b51-ad65-fe2bce5bcde6",
   "metadata": {},
   "outputs": [],
   "source": [
    "import os\n",
    "import pandas as pd\n",
    "import tensorflow as tf\n",
    "import numpy as np"
   ]
  },
  {
   "cell_type": "code",
   "execution_count": 3,
   "id": "5882c9e0-fae5-4e9a-85eb-3d4acb9f4139",
   "metadata": {
    "tags": []
   },
   "outputs": [
    {
     "data": {
      "text/plain": [
       "'C:\\\\Users\\\\mudit\\\\Downloads\\\\Toxic comment dataset\\\\kaggle dataset\\\\train\\\\dd2.csv'"
      ]
     },
     "execution_count": 3,
     "metadata": {},
     "output_type": "execute_result"
    }
   ],
   "source": [
    "os.path.join('C:\\\\Users\\\\mudit\\\\Downloads\\\\Toxic comment dataset\\\\kaggle dataset\\\\train\\\\dd2.csv')"
   ]
  },
  {
   "cell_type": "code",
   "execution_count": 4,
   "id": "1600dbe2-ce63-4dc8-b331-8e8fd4f3386b",
   "metadata": {},
   "outputs": [],
   "source": [
    "df = pd.read_csv(os.path.join('C:\\\\Users\\\\mudit\\\\Downloads\\\\Toxic comment dataset\\\\kaggle dataset\\\\train\\\\dd2.csv'))"
   ]
  },
  {
   "cell_type": "code",
   "execution_count": 4,
   "id": "69bd2e79-9444-497f-bf4e-7e42052ed853",
   "metadata": {
    "tags": []
   },
   "outputs": [
    {
     "data": {
      "text/html": [
       "<div>\n",
       "<style scoped>\n",
       "    .dataframe tbody tr th:only-of-type {\n",
       "        vertical-align: middle;\n",
       "    }\n",
       "\n",
       "    .dataframe tbody tr th {\n",
       "        vertical-align: top;\n",
       "    }\n",
       "\n",
       "    .dataframe thead th {\n",
       "        text-align: right;\n",
       "    }\n",
       "</style>\n",
       "<table border=\"1\" class=\"dataframe\">\n",
       "  <thead>\n",
       "    <tr style=\"text-align: right;\">\n",
       "      <th></th>\n",
       "      <th>id</th>\n",
       "      <th>comment_text</th>\n",
       "      <th>toxic</th>\n",
       "      <th>severe_toxic</th>\n",
       "      <th>obscene</th>\n",
       "      <th>threat</th>\n",
       "      <th>insult</th>\n",
       "      <th>identity_hate</th>\n",
       "    </tr>\n",
       "  </thead>\n",
       "  <tbody>\n",
       "    <tr>\n",
       "      <th>0</th>\n",
       "      <td>0000997932d777bf</td>\n",
       "      <td>Explanation\\nWhy the edits made under my usern...</td>\n",
       "      <td>0</td>\n",
       "      <td>0</td>\n",
       "      <td>0</td>\n",
       "      <td>0</td>\n",
       "      <td>0</td>\n",
       "      <td>0</td>\n",
       "    </tr>\n",
       "    <tr>\n",
       "      <th>1</th>\n",
       "      <td>000103f0d9cfb60f</td>\n",
       "      <td>D'aww! He matches this background colour I'm s...</td>\n",
       "      <td>0</td>\n",
       "      <td>0</td>\n",
       "      <td>0</td>\n",
       "      <td>0</td>\n",
       "      <td>0</td>\n",
       "      <td>0</td>\n",
       "    </tr>\n",
       "    <tr>\n",
       "      <th>2</th>\n",
       "      <td>000113f07ec002fd</td>\n",
       "      <td>Hey man, I'm really not trying to edit war. It...</td>\n",
       "      <td>0</td>\n",
       "      <td>0</td>\n",
       "      <td>0</td>\n",
       "      <td>0</td>\n",
       "      <td>0</td>\n",
       "      <td>0</td>\n",
       "    </tr>\n",
       "    <tr>\n",
       "      <th>3</th>\n",
       "      <td>0001b41b1c6bb37e</td>\n",
       "      <td>\"\\nMore\\nI can't make any real suggestions on ...</td>\n",
       "      <td>0</td>\n",
       "      <td>0</td>\n",
       "      <td>0</td>\n",
       "      <td>0</td>\n",
       "      <td>0</td>\n",
       "      <td>0</td>\n",
       "    </tr>\n",
       "    <tr>\n",
       "      <th>4</th>\n",
       "      <td>0001d958c54c6e35</td>\n",
       "      <td>You, sir, are my hero. Any chance you remember...</td>\n",
       "      <td>0</td>\n",
       "      <td>0</td>\n",
       "      <td>0</td>\n",
       "      <td>0</td>\n",
       "      <td>0</td>\n",
       "      <td>0</td>\n",
       "    </tr>\n",
       "  </tbody>\n",
       "</table>\n",
       "</div>"
      ],
      "text/plain": [
       "                 id                                       comment_text  toxic  \\\n",
       "0  0000997932d777bf  Explanation\\nWhy the edits made under my usern...      0   \n",
       "1  000103f0d9cfb60f  D'aww! He matches this background colour I'm s...      0   \n",
       "2  000113f07ec002fd  Hey man, I'm really not trying to edit war. It...      0   \n",
       "3  0001b41b1c6bb37e  \"\\nMore\\nI can't make any real suggestions on ...      0   \n",
       "4  0001d958c54c6e35  You, sir, are my hero. Any chance you remember...      0   \n",
       "\n",
       "   severe_toxic  obscene  threat  insult  identity_hate  \n",
       "0             0        0       0       0              0  \n",
       "1             0        0       0       0              0  \n",
       "2             0        0       0       0              0  \n",
       "3             0        0       0       0              0  \n",
       "4             0        0       0       0              0  "
      ]
     },
     "execution_count": 4,
     "metadata": {},
     "output_type": "execute_result"
    }
   ],
   "source": [
    "df.head()"
   ]
  },
  {
   "cell_type": "code",
   "execution_count": 5,
   "id": "1048fc65-ec6b-4aa7-9a73-393139733d49",
   "metadata": {
    "collapsed": true,
    "jupyter": {
     "outputs_hidden": true
    },
    "tags": []
   },
   "outputs": [
    {
     "name": "stdout",
     "output_type": "stream",
     "text": [
      "Package                       Version\n",
      "----------------------------- --------------------\n",
      "absl-py                       1.2.0\n",
      "aiohttp                       3.8.1\n",
      "aiosignal                     1.2.0\n",
      "alabaster                     0.7.12\n",
      "anaconda-client               1.9.0\n",
      "anaconda-navigator            2.1.4\n",
      "anaconda-project              0.10.2\n",
      "anyio                         3.5.0\n",
      "appdirs                       1.4.4\n",
      "argon2-cffi                   21.3.0\n",
      "argon2-cffi-bindings          21.2.0\n",
      "arrow                         1.2.2\n",
      "astroid                       2.6.6\n",
      "astropy                       5.0.4\n",
      "asttokens                     2.0.5\n",
      "astunparse                    1.6.3\n",
      "async-timeout                 4.0.1\n",
      "atomicwrites                  1.4.0\n",
      "attrs                         21.4.0\n",
      "Automat                       20.2.0\n",
      "autopep8                      1.6.0\n",
      "Babel                         2.9.1\n",
      "backcall                      0.2.0\n",
      "backports.functools-lru-cache 1.6.4\n",
      "backports.tempfile            1.0\n",
      "backports.weakref             1.0.post1\n",
      "bcrypt                        3.2.0\n",
      "beautifulsoup4                4.11.1\n",
      "binaryornot                   0.4.4\n",
      "bitarray                      2.4.1\n",
      "bkcharts                      0.2\n",
      "black                         19.10b0\n",
      "bleach                        4.1.0\n",
      "bokeh                         2.4.2\n",
      "boto3                         1.21.32\n",
      "botocore                      1.24.32\n",
      "Bottleneck                    1.3.4\n",
      "brotlipy                      0.7.0\n",
      "cachetools                    4.2.2\n",
      "certifi                       2021.10.8\n",
      "cffi                          1.15.0\n",
      "chardet                       4.0.0\n",
      "charset-normalizer            2.0.4\n",
      "click                         8.0.4\n",
      "cloudpickle                   2.0.0\n",
      "clyent                        1.2.2\n",
      "colorama                      0.4.4\n",
      "colorcet                      2.0.6\n",
      "comtypes                      1.1.10\n",
      "conda                         4.12.0\n",
      "conda-build                   3.21.8\n",
      "conda-content-trust           0+unknown\n",
      "conda-pack                    0.6.0\n",
      "conda-package-handling        1.8.1\n",
      "conda-repo-cli                1.0.4\n",
      "conda-token                   0.3.0\n",
      "conda-verify                  3.4.2\n",
      "constantly                    15.1.0\n",
      "cookiecutter                  1.7.3\n",
      "cryptography                  3.4.8\n",
      "cssselect                     1.1.0\n",
      "cycler                        0.11.0\n",
      "Cython                        0.29.28\n",
      "cytoolz                       0.11.0\n",
      "daal4py                       2021.5.0\n",
      "dask                          2022.2.1\n",
      "datashader                    0.13.0\n",
      "datashape                     0.5.4\n",
      "debugpy                       1.5.1\n",
      "decorator                     5.1.1\n",
      "defusedxml                    0.7.1\n",
      "diff-match-patch              20200713\n",
      "distributed                   2022.2.1\n",
      "docutils                      0.17.1\n",
      "entrypoints                   0.4\n",
      "et-xmlfile                    1.1.0\n",
      "executing                     0.8.3\n",
      "fastapi                       0.86.0\n",
      "fastjsonschema                2.15.1\n",
      "ffmpy                         0.3.0\n",
      "filelock                      3.6.0\n",
      "flake8                        3.9.2\n",
      "Flask                         1.1.2\n",
      "flatbuffers                   22.9.24\n",
      "fonttools                     4.25.0\n",
      "frozenlist                    1.2.0\n",
      "fsspec                        2022.2.0\n",
      "future                        0.18.2\n",
      "gast                          0.4.0\n",
      "gensim                        4.1.2\n",
      "glob2                         0.7\n",
      "google-api-core               1.25.1\n",
      "google-auth                   1.33.0\n",
      "google-auth-oauthlib          0.4.6\n",
      "google-cloud-core             1.7.1\n",
      "google-cloud-storage          1.31.0\n",
      "google-crc32c                 1.1.2\n",
      "google-pasta                  0.2.0\n",
      "google-resumable-media        1.3.1\n",
      "googleapis-common-protos      1.53.0\n",
      "gradio                        3.9\n",
      "greenlet                      1.1.1\n",
      "grpcio                        1.42.0\n",
      "h11                           0.12.0\n",
      "h5py                          3.6.0\n",
      "HeapDict                      1.0.1\n",
      "holoviews                     1.14.8\n",
      "httpcore                      0.15.0\n",
      "httpx                         0.23.0\n",
      "hvplot                        0.7.3\n",
      "hyperlink                     21.0.0\n",
      "idna                          3.3\n",
      "imagecodecs                   2021.8.26\n",
      "imageio                       2.9.0\n",
      "imagesize                     1.3.0\n",
      "importlib-metadata            4.11.3\n",
      "incremental                   21.3.0\n",
      "inflection                    0.5.1\n",
      "iniconfig                     1.1.1\n",
      "intake                        0.6.5\n",
      "intervaltree                  3.1.0\n",
      "ipykernel                     6.9.1\n",
      "ipython                       8.2.0\n",
      "ipython-genutils              0.2.0\n",
      "ipywidgets                    7.6.5\n",
      "isort                         5.9.3\n",
      "itemadapter                   0.3.0\n",
      "itemloaders                   1.0.4\n",
      "itsdangerous                  2.0.1\n",
      "jdcal                         1.4.1\n",
      "jedi                          0.18.1\n",
      "Jinja2                        2.11.3\n",
      "jinja2-time                   0.2.0\n",
      "jmespath                      0.10.0\n",
      "joblib                        1.1.0\n",
      "json5                         0.9.6\n",
      "jsonschema                    4.4.0\n",
      "jupyter                       1.0.0\n",
      "jupyter-client                6.1.12\n",
      "jupyter-console               6.4.0\n",
      "jupyter-core                  4.9.2\n",
      "jupyter-server                1.13.5\n",
      "jupyterlab                    3.3.2\n",
      "jupyterlab-pygments           0.1.2\n",
      "jupyterlab-server             2.10.3\n",
      "jupyterlab-widgets            1.0.0\n",
      "keras                         2.10.0\n",
      "Keras-Preprocessing           1.1.2\n",
      "keyring                       23.4.0\n",
      "kiwisolver                    1.3.2\n",
      "lazy-object-proxy             1.6.0\n",
      "libarchive-c                  2.9\n",
      "libclang                      14.0.6\n",
      "linkify-it-py                 1.0.3\n",
      "llvmlite                      0.38.0\n",
      "locket                        0.2.1\n",
      "lxml                          4.8.0\n",
      "Markdown                      3.3.4\n",
      "markdown-it-py                2.1.0\n",
      "MarkupSafe                    2.0.1\n",
      "matplotlib                    3.5.1\n",
      "matplotlib-inline             0.1.2\n",
      "mccabe                        0.6.1\n",
      "mdit-py-plugins               0.3.1\n",
      "mdurl                         0.1.2\n",
      "menuinst                      1.4.18\n",
      "mistune                       0.8.4\n",
      "mkl-fft                       1.3.1\n",
      "mkl-random                    1.2.2\n",
      "mkl-service                   2.4.0\n",
      "mock                          4.0.3\n",
      "mpmath                        1.2.1\n",
      "msgpack                       1.0.2\n",
      "multidict                     5.1.0\n",
      "multipledispatch              0.6.0\n",
      "munkres                       1.1.4\n",
      "mypy-extensions               0.4.3\n",
      "navigator-updater             0.2.1\n",
      "nbclassic                     0.3.5\n",
      "nbclient                      0.5.13\n",
      "nbconvert                     6.4.4\n",
      "nbformat                      5.3.0\n",
      "nest-asyncio                  1.5.5\n",
      "networkx                      2.7.1\n",
      "nltk                          3.7\n",
      "nose                          1.3.7\n",
      "notebook                      6.4.8\n",
      "numba                         0.55.1\n",
      "numexpr                       2.8.1\n",
      "numpy                         1.21.5\n",
      "numpydoc                      1.2\n",
      "oauthlib                      3.2.1\n",
      "olefile                       0.46\n",
      "openpyxl                      3.0.9\n",
      "opt-einsum                    3.3.0\n",
      "orjson                        3.8.1\n",
      "packaging                     21.3\n",
      "pandas                        1.4.2\n",
      "pandocfilters                 1.5.0\n",
      "panel                         0.13.0\n",
      "param                         1.12.0\n",
      "paramiko                      2.8.1\n",
      "parsel                        1.6.0\n",
      "parso                         0.8.3\n",
      "partd                         1.2.0\n",
      "pathspec                      0.7.0\n",
      "patsy                         0.5.2\n",
      "pep8                          1.7.1\n",
      "pexpect                       4.8.0\n",
      "pickleshare                   0.7.5\n",
      "Pillow                        9.0.1\n",
      "pip                           21.2.4\n",
      "pkginfo                       1.8.2\n",
      "plotly                        5.6.0\n",
      "pluggy                        1.0.0\n",
      "poyo                          0.5.0\n",
      "prometheus-client             0.13.1\n",
      "prompt-toolkit                3.0.20\n",
      "Protego                       0.1.16\n",
      "protobuf                      3.19.1\n",
      "psutil                        5.8.0\n",
      "ptyprocess                    0.7.0\n",
      "pure-eval                     0.2.2\n",
      "py                            1.11.0\n",
      "pyasn1                        0.4.8\n",
      "pyasn1-modules                0.2.8\n",
      "pycodestyle                   2.7.0\n",
      "pycosat                       0.6.3\n",
      "pycparser                     2.21\n",
      "pycryptodome                  3.15.0\n",
      "pyct                          0.4.6\n",
      "pycurl                        7.44.1\n",
      "pydantic                      1.10.2\n",
      "PyDispatcher                  2.0.5\n",
      "pydocstyle                    6.1.1\n",
      "pydub                         0.25.1\n",
      "pyerfa                        2.0.0\n",
      "pyflakes                      2.3.1\n",
      "Pygments                      2.11.2\n",
      "PyHamcrest                    2.0.2\n",
      "PyJWT                         2.1.0\n",
      "pylint                        2.9.6\n",
      "pyls-spyder                   0.4.0\n",
      "PyNaCl                        1.4.0\n",
      "pyodbc                        4.0.32\n",
      "pyOpenSSL                     21.0.0\n",
      "pyparsing                     3.0.4\n",
      "pyreadline                    2.1\n",
      "pyrsistent                    0.18.0\n",
      "PySocks                       1.7.1\n",
      "pytest                        7.1.1\n",
      "python-dateutil               2.8.2\n",
      "python-lsp-black              1.0.0\n",
      "python-lsp-jsonrpc            1.0.0\n",
      "python-lsp-server             1.2.4\n",
      "python-multipart              0.0.5\n",
      "python-slugify                5.0.2\n",
      "python-snappy                 0.6.0\n",
      "pytz                          2021.3\n",
      "pyviz-comms                   2.0.2\n",
      "PyWavelets                    1.3.0\n",
      "pywin32                       302\n",
      "pywin32-ctypes                0.2.0\n",
      "pywinpty                      2.0.2\n",
      "PyYAML                        6.0\n",
      "pyzmq                         22.3.0\n",
      "QDarkStyle                    3.0.2\n",
      "qstylizer                     0.1.10\n",
      "QtAwesome                     1.0.3\n",
      "qtconsole                     5.3.0\n",
      "QtPy                          2.0.1\n",
      "queuelib                      1.5.0\n",
      "regex                         2022.3.15\n",
      "requests                      2.27.1\n",
      "requests-file                 1.5.1\n",
      "requests-oauthlib             1.3.1\n",
      "rfc3986                       1.5.0\n",
      "rope                          0.22.0\n",
      "rsa                           4.7.2\n",
      "Rtree                         0.9.7\n",
      "ruamel-yaml-conda             0.15.100\n",
      "s3transfer                    0.5.0\n",
      "scikit-image                  0.19.2\n",
      "scikit-learn                  1.0.2\n",
      "scikit-learn-intelex          2021.20220215.102710\n",
      "scipy                         1.7.3\n",
      "Scrapy                        2.6.1\n",
      "seaborn                       0.11.2\n",
      "Send2Trash                    1.8.0\n",
      "service-identity              18.1.0\n",
      "setuptools                    61.2.0\n",
      "sip                           4.19.13\n",
      "six                           1.16.0\n",
      "sklearn                       0.0\n",
      "smart-open                    5.1.0\n",
      "sniffio                       1.2.0\n",
      "snowballstemmer               2.2.0\n",
      "sortedcollections             2.1.0\n",
      "sortedcontainers              2.4.0\n",
      "soupsieve                     2.3.1\n",
      "Sphinx                        4.4.0\n",
      "sphinxcontrib-applehelp       1.0.2\n",
      "sphinxcontrib-devhelp         1.0.2\n",
      "sphinxcontrib-htmlhelp        2.0.0\n",
      "sphinxcontrib-jsmath          1.0.1\n",
      "sphinxcontrib-qthelp          1.0.3\n",
      "sphinxcontrib-serializinghtml 1.1.5\n",
      "spyder                        5.1.5\n",
      "spyder-kernels                2.1.3\n",
      "SQLAlchemy                    1.4.32\n",
      "stack-data                    0.2.0\n",
      "starlette                     0.20.4\n",
      "statsmodels                   0.13.2\n",
      "sympy                         1.10.1\n",
      "tables                        3.6.1\n",
      "tabulate                      0.8.9\n",
      "TBB                           0.2\n",
      "tblib                         1.7.0\n",
      "tenacity                      8.0.1\n",
      "tensorboard                   2.10.1\n",
      "tensorboard-data-server       0.6.1\n",
      "tensorboard-plugin-wit        1.8.1\n",
      "tensorflow                    2.10.0\n",
      "tensorflow-estimator          2.10.0\n",
      "tensorflow-gpu                2.10.0\n",
      "tensorflow-io-gcs-filesystem  0.27.0\n",
      "termcolor                     2.0.1\n",
      "terminado                     0.13.1\n",
      "testpath                      0.5.0\n",
      "text-unidecode                1.3\n",
      "textdistance                  4.2.1\n",
      "threadpoolctl                 2.2.0\n",
      "three-merge                   0.1.1\n",
      "tifffile                      2021.7.2\n",
      "tinycss                       0.4\n",
      "tldextract                    3.2.0\n",
      "toml                          0.10.2\n",
      "tomli                         1.2.2\n",
      "toolz                         0.11.2\n",
      "tornado                       6.1\n",
      "tqdm                          4.64.0\n",
      "traitlets                     5.1.1\n",
      "Twisted                       22.2.0\n",
      "twisted-iocpsupport           1.0.2\n",
      "typed-ast                     1.4.3\n",
      "typing_extensions             4.1.1\n",
      "uc-micro-py                   1.0.1\n",
      "ujson                         5.1.0\n",
      "Unidecode                     1.2.0\n",
      "urllib3                       1.26.9\n",
      "uvicorn                       0.19.0\n",
      "w3lib                         1.21.0\n",
      "watchdog                      2.1.6\n",
      "wcwidth                       0.2.5\n",
      "webencodings                  0.5.1\n",
      "websocket-client              0.58.0\n",
      "websockets                    10.4\n",
      "Werkzeug                      2.0.3\n",
      "wheel                         0.37.1\n",
      "widgetsnbextension            3.5.2\n",
      "win-inet-pton                 1.1.0\n",
      "win-unicode-console           0.5\n",
      "wincertstore                  0.2\n",
      "wrapt                         1.12.1\n",
      "xarray                        0.20.1\n",
      "xlrd                          2.0.1\n",
      "XlsxWriter                    3.0.3\n",
      "xlwings                       0.24.9\n",
      "yapf                          0.31.0\n",
      "yarl                          1.6.3\n",
      "zict                          2.0.0\n",
      "zipp                          3.7.0\n",
      "zope.interface                5.4.0\n"
     ]
    }
   ],
   "source": [
    "!pip list\n"
   ]
  },
  {
   "cell_type": "code",
   "execution_count": 6,
   "id": "a1e2fd81-7a4e-40ff-af3b-fdb1735ec08e",
   "metadata": {},
   "outputs": [],
   "source": [
    "from tensorflow.keras.layers import TextVectorization"
   ]
  },
  {
   "cell_type": "code",
   "execution_count": 7,
   "id": "7b2045d5-1e77-4db8-9e12-8a91193e5fb1",
   "metadata": {},
   "outputs": [],
   "source": [
    "X = df['comment_text']\n",
    "y = df[df.columns[2:]].values"
   ]
  },
  {
   "cell_type": "code",
   "execution_count": 8,
   "id": "eb03e38c-0119-41ec-b134-569c1d8b626b",
   "metadata": {},
   "outputs": [],
   "source": [
    "MAX_FEATURES = 200000 "
   ]
  },
  {
   "cell_type": "code",
   "execution_count": 9,
   "id": "4b48136e-cee2-4750-9af8-2707b44b6fef",
   "metadata": {},
   "outputs": [],
   "source": [
    "vectorizer = TextVectorization(max_tokens=MAX_FEATURES,\n",
    "                               output_sequence_length=1800,\n",
    "                               output_mode='int')"
   ]
  },
  {
   "cell_type": "code",
   "execution_count": 10,
   "id": "bd5a6b6f-5bf5-4e17-931f-3e86e90e8c2a",
   "metadata": {},
   "outputs": [],
   "source": [
    "vectorizer.adapt(X.values)"
   ]
  },
  {
   "cell_type": "code",
   "execution_count": 11,
   "id": "f4b1a969-1400-4a46-88b0-fa7251cbac60",
   "metadata": {},
   "outputs": [],
   "source": [
    "vectorized_text = vectorizer(X.values)"
   ]
  },
  {
   "cell_type": "code",
   "execution_count": 12,
   "id": "207f7497-f654-488a-ae13-e65ff9855c73",
   "metadata": {},
   "outputs": [],
   "source": [
    "dataset = tf.data.Dataset.from_tensor_slices((vectorized_text, y))\n",
    "dataset = dataset.cache()\n",
    "dataset = dataset.shuffle(1900)\n",
    "dataset = dataset.batch(16)\n",
    "dataset = dataset.prefetch(8)"
   ]
  },
  {
   "cell_type": "code",
   "execution_count": 13,
   "id": "0b5ea6c1-a7d1-4382-aaf9-098b52e9fd7f",
   "metadata": {},
   "outputs": [],
   "source": [
    "train = dataset.take(int(len(dataset)*.7))\n",
    "val = dataset.skip(int(len(dataset)*.7)).take(int(len(dataset)*.2))\n",
    "test = dataset.skip(int(len(dataset)*.9)).take(int(len(dataset)*.1))"
   ]
  },
  {
   "cell_type": "code",
   "execution_count": 14,
   "id": "f536eb7c-099a-4e12-b1c7-3bd8b0848774",
   "metadata": {},
   "outputs": [],
   "source": [
    "from tensorflow.keras.models import Sequential\n",
    "from tensorflow.keras.layers import LSTM, Dropout, Bidirectional, Dense, Embedding"
   ]
  },
  {
   "cell_type": "code",
   "execution_count": 15,
   "id": "c6e94b82-40da-462d-95a2-18683105c43e",
   "metadata": {},
   "outputs": [],
   "source": [
    "model = Sequential()\n",
    "model.add(Embedding(MAX_FEATURES+1, 32))\n",
    "model.add(Bidirectional(LSTM(32, activation='tanh')))\n",
    "model.add(Dense(128, activation='relu'))\n",
    "model.add(Dropout(0.5))\n",
    "model.add(Dense(256, activation='relu'))\n",
    "model.add(Dense(128, activation='relu'))\n",
    "model.add(Dense(6, activation='sigmoid'))"
   ]
  },
  {
   "cell_type": "code",
   "execution_count": 16,
   "id": "bde85e35-21f6-450e-9383-bbba1234a405",
   "metadata": {},
   "outputs": [],
   "source": [
    "model.compile(loss='BinaryCrossentropy', optimizer='Adam')"
   ]
  },
  {
   "cell_type": "code",
   "execution_count": 17,
   "id": "5baf58ad-5d13-4b7c-b46b-0e9eefe81777",
   "metadata": {
    "collapsed": true,
    "jupyter": {
     "outputs_hidden": true
    },
    "tags": []
   },
   "outputs": [
    {
     "name": "stdout",
     "output_type": "stream",
     "text": [
      "Model: \"sequential\"\n",
      "_________________________________________________________________\n",
      " Layer (type)                Output Shape              Param #   \n",
      "=================================================================\n",
      " embedding (Embedding)       (None, None, 32)          6400032   \n",
      "                                                                 \n",
      " bidirectional (Bidirectiona  (None, 64)               16640     \n",
      " l)                                                              \n",
      "                                                                 \n",
      " dense (Dense)               (None, 128)               8320      \n",
      "                                                                 \n",
      " dropout (Dropout)           (None, 128)               0         \n",
      "                                                                 \n",
      " dense_1 (Dense)             (None, 256)               33024     \n",
      "                                                                 \n",
      " dense_2 (Dense)             (None, 128)               32896     \n",
      "                                                                 \n",
      " dense_3 (Dense)             (None, 6)                 774       \n",
      "                                                                 \n",
      "=================================================================\n",
      "Total params: 6,491,686\n",
      "Trainable params: 6,491,686\n",
      "Non-trainable params: 0\n",
      "_________________________________________________________________\n"
     ]
    }
   ],
   "source": [
    "model.summary()"
   ]
  },
  {
   "cell_type": "code",
   "execution_count": 19,
   "id": "ab8c5103-2bf0-492e-aecd-616392f77ad7",
   "metadata": {
    "tags": []
   },
   "outputs": [
    {
     "name": "stdout",
     "output_type": "stream",
     "text": [
      "Epoch 1/100\n",
      "81/81 [==============================] - 64s 725ms/step - loss: 0.2315 - val_loss: 0.1514\n",
      "Epoch 2/100\n",
      "81/81 [==============================] - 57s 708ms/step - loss: 0.1408 - val_loss: 0.1116\n",
      "Epoch 3/100\n",
      "81/81 [==============================] - 56s 689ms/step - loss: 0.0849 - val_loss: 0.0507\n",
      "Epoch 4/100\n",
      "81/81 [==============================] - 55s 685ms/step - loss: 0.0613 - val_loss: 0.0610\n",
      "Epoch 5/100\n",
      "81/81 [==============================] - 59s 731ms/step - loss: 0.0428 - val_loss: 0.0336\n",
      "Epoch 6/100\n",
      "81/81 [==============================] - 56s 690ms/step - loss: 0.0412 - val_loss: 0.0445\n",
      "Epoch 7/100\n",
      "81/81 [==============================] - 58s 720ms/step - loss: 0.0344 - val_loss: 0.0337\n",
      "Epoch 8/100\n",
      "81/81 [==============================] - 56s 689ms/step - loss: 0.0324 - val_loss: 0.0363\n",
      "Epoch 9/100\n",
      "81/81 [==============================] - 56s 686ms/step - loss: 0.0319 - val_loss: 0.0265\n",
      "Epoch 10/100\n",
      "81/81 [==============================] - 57s 701ms/step - loss: 0.0286 - val_loss: 0.0304\n",
      "Epoch 11/100\n",
      "81/81 [==============================] - 56s 686ms/step - loss: 0.0284 - val_loss: 0.0176\n",
      "Epoch 12/100\n",
      "81/81 [==============================] - 56s 692ms/step - loss: 0.0281 - val_loss: 0.0237\n",
      "Epoch 13/100\n",
      "81/81 [==============================] - 56s 686ms/step - loss: 0.0257 - val_loss: 0.0262\n",
      "Epoch 14/100\n",
      "81/81 [==============================] - 55s 685ms/step - loss: 0.0295 - val_loss: 0.0381\n",
      "Epoch 15/100\n",
      "81/81 [==============================] - 56s 686ms/step - loss: 0.0287 - val_loss: 0.0272\n",
      "Epoch 16/100\n",
      "81/81 [==============================] - 56s 687ms/step - loss: 0.0259 - val_loss: 0.0237\n",
      "Epoch 17/100\n",
      "81/81 [==============================] - 56s 686ms/step - loss: 0.0255 - val_loss: 0.0183\n",
      "Epoch 18/100\n",
      "81/81 [==============================] - 56s 690ms/step - loss: 0.0233 - val_loss: 0.0241\n",
      "Epoch 19/100\n",
      "81/81 [==============================] - 58s 714ms/step - loss: 0.0252 - val_loss: 0.0169\n",
      "Epoch 20/100\n",
      "81/81 [==============================] - 56s 689ms/step - loss: 0.0218 - val_loss: 0.0140\n",
      "Epoch 21/100\n",
      "81/81 [==============================] - 58s 718ms/step - loss: 0.0208 - val_loss: 0.0176\n",
      "Epoch 22/100\n",
      "81/81 [==============================] - 57s 703ms/step - loss: 0.0220 - val_loss: 0.0164\n",
      "Epoch 23/100\n",
      "81/81 [==============================] - 56s 688ms/step - loss: 0.0204 - val_loss: 0.0130\n",
      "Epoch 24/100\n",
      "81/81 [==============================] - 56s 689ms/step - loss: 0.0195 - val_loss: 0.0158\n",
      "Epoch 25/100\n",
      "81/81 [==============================] - 56s 696ms/step - loss: 0.0189 - val_loss: 0.0219\n",
      "Epoch 26/100\n",
      "81/81 [==============================] - 56s 688ms/step - loss: 0.0178 - val_loss: 0.0142\n",
      "Epoch 27/100\n",
      "81/81 [==============================] - 56s 688ms/step - loss: 0.0179 - val_loss: 0.0101\n",
      "Epoch 28/100\n",
      "81/81 [==============================] - 56s 690ms/step - loss: 0.0142 - val_loss: 0.0147\n",
      "Epoch 29/100\n",
      "81/81 [==============================] - 56s 691ms/step - loss: 0.0161 - val_loss: 0.0152\n",
      "Epoch 30/100\n",
      "81/81 [==============================] - 56s 687ms/step - loss: 0.0146 - val_loss: 0.0140\n",
      "Epoch 31/100\n",
      "81/81 [==============================] - 56s 689ms/step - loss: 0.0153 - val_loss: 0.0141\n",
      "Epoch 32/100\n",
      "81/81 [==============================] - 57s 701ms/step - loss: 0.0133 - val_loss: 0.0131\n",
      "Epoch 33/100\n",
      "81/81 [==============================] - 57s 700ms/step - loss: 0.0132 - val_loss: 0.0065\n",
      "Epoch 34/100\n",
      "81/81 [==============================] - 56s 690ms/step - loss: 0.0154 - val_loss: 0.0154\n",
      "Epoch 35/100\n",
      "81/81 [==============================] - 56s 690ms/step - loss: 0.0147 - val_loss: 0.0113\n",
      "Epoch 36/100\n",
      "81/81 [==============================] - 56s 687ms/step - loss: 0.0133 - val_loss: 0.0114\n",
      "Epoch 37/100\n",
      "81/81 [==============================] - 56s 690ms/step - loss: 0.0158 - val_loss: 0.0267\n",
      "Epoch 38/100\n",
      "81/81 [==============================] - 56s 689ms/step - loss: 0.0142 - val_loss: 0.0141\n",
      "Epoch 39/100\n",
      "81/81 [==============================] - 56s 690ms/step - loss: 0.0138 - val_loss: 0.0118\n",
      "Epoch 40/100\n",
      "81/81 [==============================] - 56s 688ms/step - loss: 0.0118 - val_loss: 0.0082\n",
      "Epoch 41/100\n",
      "81/81 [==============================] - 56s 688ms/step - loss: 0.0149 - val_loss: 0.0155\n",
      "Epoch 42/100\n",
      "81/81 [==============================] - 56s 691ms/step - loss: 0.0129 - val_loss: 0.0048\n",
      "Epoch 43/100\n",
      "81/81 [==============================] - 57s 704ms/step - loss: 0.0114 - val_loss: 0.0091\n",
      "Epoch 44/100\n",
      "81/81 [==============================] - 57s 708ms/step - loss: 0.0110 - val_loss: 0.0151\n",
      "Epoch 45/100\n",
      "81/81 [==============================] - 56s 694ms/step - loss: 0.0137 - val_loss: 0.0112\n",
      "Epoch 46/100\n",
      "81/81 [==============================] - 57s 701ms/step - loss: 0.0111 - val_loss: 0.0131\n",
      "Epoch 47/100\n",
      "81/81 [==============================] - 57s 701ms/step - loss: 0.0120 - val_loss: 0.0141\n",
      "Epoch 48/100\n",
      "81/81 [==============================] - 56s 691ms/step - loss: 0.0124 - val_loss: 0.0132\n",
      "Epoch 49/100\n",
      "81/81 [==============================] - 56s 691ms/step - loss: 0.0099 - val_loss: 0.0094\n",
      "Epoch 50/100\n",
      "81/81 [==============================] - 56s 688ms/step - loss: 0.0107 - val_loss: 0.0063\n",
      "Epoch 51/100\n",
      "81/81 [==============================] - 56s 692ms/step - loss: 0.0096 - val_loss: 0.0069\n",
      "Epoch 52/100\n",
      "81/81 [==============================] - 57s 707ms/step - loss: 0.0110 - val_loss: 0.0093\n",
      "Epoch 53/100\n",
      "81/81 [==============================] - 56s 691ms/step - loss: 0.0125 - val_loss: 0.0096\n",
      "Epoch 54/100\n",
      "81/81 [==============================] - 56s 686ms/step - loss: 0.0179 - val_loss: 0.0190\n",
      "Epoch 55/100\n",
      "81/81 [==============================] - 56s 691ms/step - loss: 0.0135 - val_loss: 0.0086\n",
      "Epoch 56/100\n",
      "81/81 [==============================] - 56s 689ms/step - loss: 0.0103 - val_loss: 0.0078\n",
      "Epoch 57/100\n",
      "81/81 [==============================] - 56s 690ms/step - loss: 0.0093 - val_loss: 0.0054\n",
      "Epoch 58/100\n",
      "81/81 [==============================] - 57s 704ms/step - loss: 0.0073 - val_loss: 0.0063\n",
      "Epoch 59/100\n",
      "81/81 [==============================] - 57s 707ms/step - loss: 0.0098 - val_loss: 0.0086\n",
      "Epoch 60/100\n",
      "81/81 [==============================] - 56s 688ms/step - loss: 0.0092 - val_loss: 0.0062\n",
      "Epoch 61/100\n",
      "81/81 [==============================] - 56s 689ms/step - loss: 0.0060 - val_loss: 0.0045\n",
      "Epoch 62/100\n",
      "81/81 [==============================] - 56s 693ms/step - loss: 0.0093 - val_loss: 0.0035\n",
      "Epoch 63/100\n",
      "81/81 [==============================] - 56s 688ms/step - loss: 0.0081 - val_loss: 0.0080\n",
      "Epoch 64/100\n",
      "81/81 [==============================] - 56s 689ms/step - loss: 0.0106 - val_loss: 0.0068\n",
      "Epoch 65/100\n",
      "81/81 [==============================] - 56s 690ms/step - loss: 0.0106 - val_loss: 0.0039\n",
      "Epoch 66/100\n",
      "81/81 [==============================] - 56s 690ms/step - loss: 0.0073 - val_loss: 0.0095\n",
      "Epoch 67/100\n",
      "81/81 [==============================] - 56s 687ms/step - loss: 0.0083 - val_loss: 0.0068\n",
      "Epoch 68/100\n",
      "81/81 [==============================] - 56s 687ms/step - loss: 0.0066 - val_loss: 8.9898e-04\n",
      "Epoch 69/100\n",
      "81/81 [==============================] - 59s 731ms/step - loss: 0.0050 - val_loss: 0.0094\n",
      "Epoch 70/100\n",
      "81/81 [==============================] - 56s 689ms/step - loss: 0.0071 - val_loss: 0.0035\n",
      "Epoch 71/100\n",
      "81/81 [==============================] - 56s 691ms/step - loss: 0.0091 - val_loss: 0.0046\n",
      "Epoch 72/100\n",
      "81/81 [==============================] - 56s 687ms/step - loss: 0.0070 - val_loss: 0.0021\n",
      "Epoch 73/100\n",
      "81/81 [==============================] - 57s 701ms/step - loss: 0.0076 - val_loss: 0.0041\n",
      "Epoch 74/100\n",
      "81/81 [==============================] - 56s 695ms/step - loss: 0.0078 - val_loss: 0.0073\n",
      "Epoch 75/100\n",
      "81/81 [==============================] - 56s 694ms/step - loss: 0.0067 - val_loss: 0.0027\n",
      "Epoch 76/100\n",
      "81/81 [==============================] - 56s 697ms/step - loss: 0.0051 - val_loss: 0.0070\n",
      "Epoch 77/100\n",
      "81/81 [==============================] - 57s 709ms/step - loss: 0.0051 - val_loss: 0.0039\n",
      "Epoch 78/100\n",
      "81/81 [==============================] - 57s 701ms/step - loss: 0.0072 - val_loss: 0.0032\n",
      "Epoch 79/100\n",
      "81/81 [==============================] - 56s 689ms/step - loss: 0.0054 - val_loss: 0.0031\n",
      "Epoch 80/100\n",
      "81/81 [==============================] - 56s 687ms/step - loss: 0.0055 - val_loss: 0.0043\n",
      "Epoch 81/100\n",
      "81/81 [==============================] - 56s 694ms/step - loss: 0.0045 - val_loss: 0.0042\n",
      "Epoch 82/100\n",
      "81/81 [==============================] - 61s 756ms/step - loss: 0.0046 - val_loss: 2.0020e-04\n",
      "Epoch 83/100\n",
      "81/81 [==============================] - 66s 816ms/step - loss: 0.0046 - val_loss: 0.0046\n",
      "Epoch 84/100\n",
      "81/81 [==============================] - 59s 728ms/step - loss: 0.0038 - val_loss: 0.0020\n",
      "Epoch 85/100\n",
      "81/81 [==============================] - 56s 689ms/step - loss: 0.0040 - val_loss: 0.0042\n",
      "Epoch 86/100\n",
      "81/81 [==============================] - 56s 688ms/step - loss: 0.0036 - val_loss: 0.0073\n",
      "Epoch 87/100\n",
      "81/81 [==============================] - 56s 687ms/step - loss: 0.0046 - val_loss: 0.0034\n",
      "Epoch 88/100\n",
      "81/81 [==============================] - 56s 687ms/step - loss: 0.0031 - val_loss: 5.6853e-05\n",
      "Epoch 89/100\n",
      "81/81 [==============================] - 56s 688ms/step - loss: 0.0037 - val_loss: 0.0061\n",
      "Epoch 90/100\n",
      "81/81 [==============================] - 56s 688ms/step - loss: 0.0034 - val_loss: 0.0034\n",
      "Epoch 91/100\n",
      "81/81 [==============================] - 56s 689ms/step - loss: 0.0027 - val_loss: 0.0023\n",
      "Epoch 92/100\n",
      "81/81 [==============================] - 57s 703ms/step - loss: 0.0062 - val_loss: 0.0054\n",
      "Epoch 93/100\n",
      "81/81 [==============================] - 55s 685ms/step - loss: 0.0025 - val_loss: 0.0047\n",
      "Epoch 94/100\n",
      "81/81 [==============================] - 56s 688ms/step - loss: 0.0042 - val_loss: 7.2719e-04\n",
      "Epoch 95/100\n",
      "81/81 [==============================] - 56s 687ms/step - loss: 0.0025 - val_loss: 0.0021\n",
      "Epoch 96/100\n",
      "81/81 [==============================] - 57s 709ms/step - loss: 0.0043 - val_loss: 0.0040\n",
      "Epoch 97/100\n",
      "81/81 [==============================] - 57s 708ms/step - loss: 0.0064 - val_loss: 0.0138\n",
      "Epoch 98/100\n",
      "81/81 [==============================] - 63s 781ms/step - loss: 0.0055 - val_loss: 7.7884e-04\n",
      "Epoch 99/100\n",
      "81/81 [==============================] - 63s 782ms/step - loss: 0.0044 - val_loss: 0.0032\n",
      "Epoch 100/100\n",
      "81/81 [==============================] - 61s 760ms/step - loss: 0.0085 - val_loss: 0.0014\n"
     ]
    }
   ],
   "source": [
    "history = model.fit(train, epochs=100, validation_data=val)"
   ]
  },
  {
   "cell_type": "code",
   "execution_count": 20,
   "id": "29d1f955-5572-4642-ae2c-a145004c1649",
   "metadata": {},
   "outputs": [],
   "source": [
    "from matplotlib import pyplot as plt"
   ]
  },
  {
   "cell_type": "code",
   "execution_count": 21,
   "id": "8bd1ad5f-2e50-420e-a947-a25b3078e601",
   "metadata": {},
   "outputs": [
    {
     "data": {
      "text/plain": [
       "<Figure size 576x360 with 0 Axes>"
      ]
     },
     "metadata": {},
     "output_type": "display_data"
    },
    {
     "data": {
      "image/png": "[encoded data removed]",
      "text/plain": [
       "<Figure size 432x288 with 1 Axes>"
      ]
     },
     "metadata": {
      "needs_background": "light"
     },
     "output_type": "display_data"
    }
   ],
   "source": [
    "plt.figure(figsize=(8,5))\n",
    "pd.DataFrame(history.history).plot()\n",
    "plt.show()"
   ]
  },
  {
   "cell_type": "code",
   "execution_count": 18,
   "id": "4b1df43b-cf12-4fea-ab19-8a19e235d73b",
   "metadata": {},
   "outputs": [],
   "source": [
    "input_text = vectorizer(' I am going to hit you.')"
   ]
  },
  {
   "cell_type": "code",
   "execution_count": 19,
   "id": "20bf9c26-c82f-45f6-bd33-b32211f45ea0",
   "metadata": {},
   "outputs": [
    {
     "name": "stdout",
     "output_type": "stream",
     "text": [
      "1/1 [==============================] - 2s 2s/step\n"
     ]
    },
    {
     "data": {
      "text/plain": [
       "array([[0.50258845, 0.5013038 , 0.4986984 , 0.4994485 , 0.4969478 ,\n",
       "        0.5019605 ]], dtype=float32)"
      ]
     },
     "execution_count": 19,
     "metadata": {},
     "output_type": "execute_result"
    }
   ],
   "source": [
    "model.predict(np.array([input_text]))"
   ]
  },
  {
   "cell_type": "code",
   "execution_count": 20,
   "id": "c951c5a4-01a4-4b12-800d-67b5e41d77cb",
   "metadata": {},
   "outputs": [
    {
     "name": "stdout",
     "output_type": "stream",
     "text": [
      "1/1 [==============================] - 0s 141ms/step\n"
     ]
    }
   ],
   "source": [
    "res = model.predict(np.array([input_text]))"
   ]
  },
  {
   "cell_type": "code",
   "execution_count": 21,
   "id": "b6b232c1-c32c-4754-9945-52672b873797",
   "metadata": {},
   "outputs": [
    {
     "data": {
      "text/plain": [
       "array([[1, 1, 0, 0, 0, 1]])"
      ]
     },
     "execution_count": 21,
     "metadata": {},
     "output_type": "execute_result"
    }
   ],
   "source": [
    "(res > 0.5).astype(int)"
   ]
  },
  {
   "cell_type": "code",
   "execution_count": 22,
   "id": "4d36f19c-1509-48ac-9d34-123da85454c7",
   "metadata": {},
   "outputs": [],
   "source": [
    "batch_X, batch_y = test.as_numpy_iterator().next()"
   ]
  },
  {
   "cell_type": "code",
   "execution_count": 23,
   "id": "783a2596-17b1-4c73-a0e7-35f1b79323e8",
   "metadata": {
    "collapsed": true,
    "jupyter": {
     "outputs_hidden": true
    },
    "tags": []
   },
   "outputs": [
    {
     "name": "stdout",
     "output_type": "stream",
     "text": [
      "1/1 [==============================] - 0s 233ms/step\n"
     ]
    },
    {
     "data": {
      "text/plain": [
       "array([[1, 1, 0, 1, 0, 1],\n",
       "       [1, 1, 0, 1, 0, 1],\n",
       "       [1, 1, 0, 1, 0, 1],\n",
       "       [1, 1, 0, 0, 0, 1],\n",
       "       [1, 1, 0, 0, 0, 1],\n",
       "       [1, 1, 1, 0, 0, 1],\n",
       "       [1, 1, 0, 0, 0, 1],\n",
       "       [1, 1, 0, 0, 0, 1],\n",
       "       [1, 1, 0, 0, 0, 1],\n",
       "       [1, 1, 0, 1, 0, 1],\n",
       "       [1, 1, 0, 1, 0, 1],\n",
       "       [1, 1, 0, 1, 0, 1],\n",
       "       [1, 1, 0, 1, 0, 1],\n",
       "       [1, 1, 0, 0, 0, 1],\n",
       "       [1, 1, 0, 1, 0, 1],\n",
       "       [1, 1, 0, 1, 0, 1]])"
      ]
     },
     "execution_count": 23,
     "metadata": {},
     "output_type": "execute_result"
    }
   ],
   "source": [
    "(model.predict(batch_X) > 0.5).astype(int)"
   ]
  },
  {
   "cell_type": "code",
   "execution_count": 24,
   "id": "afaaf225-a868-4bcb-bb96-95ad407227e4",
   "metadata": {},
   "outputs": [
    {
     "data": {
      "text/plain": [
       "(1, 6)"
      ]
     },
     "execution_count": 24,
     "metadata": {},
     "output_type": "execute_result"
    }
   ],
   "source": [
    "res.shape"
   ]
  },
  {
   "cell_type": "code",
   "execution_count": 25,
   "id": "428be145-47d0-4d72-b68c-8299137e35f7",
   "metadata": {},
   "outputs": [],
   "source": [
    "from tensorflow.keras.metrics import Precision, Recall, CategoricalAccuracy"
   ]
  },
  {
   "cell_type": "code",
   "execution_count": 26,
   "id": "47a76803-b52f-4109-9f48-fc75c6e9615e",
   "metadata": {},
   "outputs": [],
   "source": [
    "pre = Precision()\n",
    "re = Recall()\n",
    "acc = CategoricalAccuracy()"
   ]
  },
  {
   "cell_type": "code",
   "execution_count": 104,
   "id": "40b2ece5-9c99-4171-a940-85b11721cf99",
   "metadata": {
    "tags": []
   },
   "outputs": [
    {
     "name": "stdout",
     "output_type": "stream",
     "text": [
      "1/1 [==============================] - 0s 235ms/step\n",
      "1/1 [==============================] - 0s 139ms/step\n",
      "1/1 [==============================] - 0s 183ms/step\n",
      "1/1 [==============================] - 0s 197ms/step\n",
      "1/1 [==============================] - 0s 142ms/step\n",
      "1/1 [==============================] - 0s 182ms/step\n",
      "1/1 [==============================] - 0s 170ms/step\n",
      "1/1 [==============================] - 0s 162ms/step\n",
      "1/1 [==============================] - 0s 227ms/step\n",
      "1/1 [==============================] - 0s 196ms/step\n",
      "1/1 [==============================] - 0s 143ms/step\n"
     ]
    }
   ],
   "source": [
    "for batch in test.as_numpy_iterator(): \n",
    "    X_true, y_true = batch\n",
    "    yhat = model.predict(X_true)\n",
    "    y_true = y_true.flatten()\n",
    "    yhat = yhat.flatten()\n",
    "    pre.update_state(y_true, yhat)\n",
    "    re.update_state(y_true, yhat)\n",
    "    acc.update_state(y_true, yhat)"
   ]
  },
  {
   "cell_type": "code",
   "execution_count": 32,
   "id": "9d09e6f8-00e4-461a-a13e-e459aea54bab",
   "metadata": {
    "collapsed": true,
    "jupyter": {
     "outputs_hidden": true
    },
    "tags": []
   },
   "outputs": [
    {
     "name": "stdout",
     "output_type": "stream",
     "text": [
      "Precision: 1.0, Recall:1.0, Accuracy:0.5454545617103577\n"
     ]
    }
   ],
   "source": [
    "print(f'Precision: {pre.result().numpy()}, Recall:{re.result().numpy()}, Accuracy:{acc.result().numpy()}')"
   ]
  },
  {
   "cell_type": "code",
   "execution_count": 33,
   "id": "a300212c-046a-4e79-be72-464845e2330f",
   "metadata": {},
   "outputs": [],
   "source": [
    "model.save('toxic_comment_dropout4.h5')"
   ]
  },
  {
   "cell_type": "code",
   "execution_count": 28,
   "id": "1e9fead4-4405-40b9-8f68-ffe1f63a865f",
   "metadata": {},
   "outputs": [],
   "source": [
    "model =tf.keras.models.load_model('toxic_comment_dropout4.h5')"
   ]
  },
  {
   "cell_type": "code",
   "execution_count": 105,
   "id": "760ae1b7-e8b7-4bb5-b0f5-b4b5807c6f19",
   "metadata": {},
   "outputs": [
    {
     "name": "stdout",
     "output_type": "stream",
     "text": [
      "Precision: 0.7053962349891663, Recall:0.9870748519897461, Accuracy:0.5967366099357605\n"
     ]
    }
   ],
   "source": [
    "print(f'Precision: {pre.result().numpy()}, Recall:{re.result().numpy()}, Accuracy:{acc.result().numpy()}')"
   ]
  },
  {
   "cell_type": "code",
   "execution_count": 106,
   "id": "8a36b570-0fc5-4aa7-99ce-9d19b5742884",
   "metadata": {},
   "outputs": [],
   "source": [
    "F1 = 2 * ((pre.result().numpy() )*(re.result().numpy()) ) / ((pre.result().numpy() )+(re.result().numpy()) )"
   ]
  },
  {
   "cell_type": "code",
   "execution_count": 107,
   "id": "cb992854-9f9e-42b1-8de8-2ed5ebbf7bd7",
   "metadata": {},
   "outputs": [
    {
     "data": {
      "text/plain": [
       "0.822795615220621"
      ]
     },
     "execution_count": 107,
     "metadata": {},
     "output_type": "execute_result"
    }
   ],
   "source": [
    "F1"
   ]
  },
  {
   "cell_type": "code",
   "execution_count": 108,
   "id": "41c5cdea-9ac7-4203-bf44-9ac7ce33e2ba",
   "metadata": {},
   "outputs": [],
   "source": [
    "input_str = vectorizer('i will kill you')"
   ]
  },
  {
   "cell_type": "code",
   "execution_count": 109,
   "id": "773d3fde-84c3-44d2-9933-47f0ee651107",
   "metadata": {},
   "outputs": [
    {
     "name": "stdout",
     "output_type": "stream",
     "text": [
      "1/1 [==============================] - 0s 154ms/step\n"
     ]
    }
   ],
   "source": [
    "res = model.predict(np.expand_dims(input_str,0))"
   ]
  },
  {
   "cell_type": "code",
   "execution_count": 110,
   "id": "e11dab5a-4722-40b2-9d72-78cde9294bf9",
   "metadata": {},
   "outputs": [
    {
     "data": {
      "text/plain": [
       "Index(['toxic', 'severe_toxic', 'obscene', 'threat', 'insult',\n",
       "       'identity_hate'],\n",
       "      dtype='object')"
      ]
     },
     "execution_count": 110,
     "metadata": {},
     "output_type": "execute_result"
    }
   ],
   "source": [
    "df.columns[2:]"
   ]
  },
  {
   "cell_type": "code",
   "execution_count": 111,
   "id": "53486c6c-2b26-486d-ab67-39c98af2641b",
   "metadata": {},
   "outputs": [
    {
     "data": {
      "text/plain": [
       "array([[0.2986586 , 0.00048853, 0.23165347, 0.00979489, 0.4188607 ,\n",
       "        0.12290435]], dtype=float32)"
      ]
     },
     "execution_count": 111,
     "metadata": {},
     "output_type": "execute_result"
    }
   ],
   "source": [
    "res"
   ]
  },
  {
   "cell_type": "code",
   "execution_count": 112,
   "id": "7b4e095e-257f-4b23-b00d-c2c9c61f9d6e",
   "metadata": {
    "collapsed": true,
    "jupyter": {
     "outputs_hidden": true
    },
    "tags": []
   },
   "outputs": [
    {
     "name": "stdout",
     "output_type": "stream",
     "text": [
      "Requirement already satisfied: gradio in c:\\users\\mudit\\anaconda3\\lib\\site-packages (3.9)\n",
      "Requirement already satisfied: jinja2 in c:\\users\\mudit\\anaconda3\\lib\\site-packages (2.11.3)\n",
      "Requirement already satisfied: matplotlib in c:\\users\\mudit\\anaconda3\\lib\\site-packages (from gradio) (3.5.1)\n",
      "Requirement already satisfied: markdown-it-py[linkify,plugins] in c:\\users\\mudit\\anaconda3\\lib\\site-packages (from gradio) (2.1.0)\n",
      "Requirement already satisfied: pydantic in c:\\users\\mudit\\anaconda3\\lib\\site-packages (from gradio) (1.10.2)\n",
      "Requirement already satisfied: pandas in c:\\users\\mudit\\anaconda3\\lib\\site-packages (from gradio) (1.4.2)\n",
      "Requirement already satisfied: httpx in c:\\users\\mudit\\anaconda3\\lib\\site-packages (from gradio) (0.23.0)\n",
      "Requirement already satisfied: numpy in c:\\users\\mudit\\anaconda3\\lib\\site-packages (from gradio) (1.21.5)\n",
      "Requirement already satisfied: requests in c:\\users\\mudit\\anaconda3\\lib\\site-packages (from gradio) (2.27.1)\n",
      "Requirement already satisfied: aiohttp in c:\\users\\mudit\\anaconda3\\lib\\site-packages (from gradio) (3.8.1)\n",
      "Requirement already satisfied: pydub in c:\\users\\mudit\\anaconda3\\lib\\site-packages (from gradio) (0.25.1)\n",
      "Requirement already satisfied: pillow in c:\\users\\mudit\\anaconda3\\lib\\site-packages (from gradio) (9.0.1)\n",
      "Requirement already satisfied: pyyaml in c:\\users\\mudit\\anaconda3\\lib\\site-packages (from gradio) (6.0)\n",
      "Requirement already satisfied: uvicorn in c:\\users\\mudit\\anaconda3\\lib\\site-packages (from gradio) (0.19.0)\n",
      "Requirement already satisfied: ffmpy in c:\\users\\mudit\\anaconda3\\lib\\site-packages (from gradio) (0.3.0)\n",
      "Requirement already satisfied: paramiko in c:\\users\\mudit\\anaconda3\\lib\\site-packages (from gradio) (2.8.1)\n",
      "Requirement already satisfied: websockets in c:\\users\\mudit\\anaconda3\\lib\\site-packages (from gradio) (10.4)\n",
      "Requirement already satisfied: orjson in c:\\users\\mudit\\anaconda3\\lib\\site-packages (from gradio) (3.8.1)\n",
      "Requirement already satisfied: h11<0.13,>=0.11 in c:\\users\\mudit\\anaconda3\\lib\\site-packages (from gradio) (0.12.0)\n",
      "Requirement already satisfied: fastapi in c:\\users\\mudit\\anaconda3\\lib\\site-packages (from gradio) (0.86.0)\n",
      "Requirement already satisfied: python-multipart in c:\\users\\mudit\\anaconda3\\lib\\site-packages (from gradio) (0.0.5)\n",
      "Requirement already satisfied: pycryptodome in c:\\users\\mudit\\anaconda3\\lib\\site-packages (from gradio) (3.15.0)\n",
      "Requirement already satisfied: fsspec in c:\\users\\mudit\\anaconda3\\lib\\site-packages (from gradio) (2022.2.0)\n",
      "Requirement already satisfied: MarkupSafe>=0.23 in c:\\users\\mudit\\anaconda3\\lib\\site-packages (from jinja2) (2.0.1)\n",
      "Requirement already satisfied: async-timeout<5.0,>=4.0.0a3 in c:\\users\\mudit\\anaconda3\\lib\\site-packages (from aiohttp->gradio) (4.0.1)\n",
      "Requirement already satisfied: charset-normalizer<3.0,>=2.0 in c:\\users\\mudit\\anaconda3\\lib\\site-packages (from aiohttp->gradio) (2.0.4)\n",
      "Requirement already satisfied: attrs>=17.3.0 in c:\\users\\mudit\\anaconda3\\lib\\site-packages (from aiohttp->gradio) (21.4.0)\n",
      "Requirement already satisfied: aiosignal>=1.1.2 in c:\\users\\mudit\\anaconda3\\lib\\site-packages (from aiohttp->gradio) (1.2.0)\n",
      "Requirement already satisfied: yarl<2.0,>=1.0 in c:\\users\\mudit\\anaconda3\\lib\\site-packages (from aiohttp->gradio) (1.6.3)\n",
      "Requirement already satisfied: multidict<7.0,>=4.5 in c:\\users\\mudit\\anaconda3\\lib\\site-packages (from aiohttp->gradio) (5.1.0)\n",
      "Requirement already satisfied: frozenlist>=1.1.1 in c:\\users\\mudit\\anaconda3\\lib\\site-packages (from aiohttp->gradio) (1.2.0)\n",
      "Requirement already satisfied: typing-extensions>=3.6.5 in c:\\users\\mudit\\anaconda3\\lib\\site-packages (from async-timeout<5.0,>=4.0.0a3->aiohttp->gradio) (4.1.1)\n",
      "Requirement already satisfied: idna>=2.0 in c:\\users\\mudit\\anaconda3\\lib\\site-packages (from yarl<2.0,>=1.0->aiohttp->gradio) (3.3)\n",
      "Requirement already satisfied: starlette==0.20.4 in c:\\users\\mudit\\anaconda3\\lib\\site-packages (from fastapi->gradio) (0.20.4)\n",
      "Requirement already satisfied: anyio<5,>=3.4.0 in c:\\users\\mudit\\anaconda3\\lib\\site-packages (from starlette==0.20.4->fastapi->gradio) (3.5.0)\n",
      "Requirement already satisfied: sniffio>=1.1 in c:\\users\\mudit\\anaconda3\\lib\\site-packages (from anyio<5,>=3.4.0->starlette==0.20.4->fastapi->gradio) (1.2.0)\n",
      "Requirement already satisfied: httpcore<0.16.0,>=0.15.0 in c:\\users\\mudit\\anaconda3\\lib\\site-packages (from httpx->gradio) (0.15.0)\n",
      "Requirement already satisfied: rfc3986[idna2008]<2,>=1.3 in c:\\users\\mudit\\anaconda3\\lib\\site-packages (from httpx->gradio) (1.5.0)\n",
      "Requirement already satisfied: certifi in c:\\users\\mudit\\anaconda3\\lib\\site-packages (from httpx->gradio) (2021.10.8)\n",
      "Requirement already satisfied: mdurl~=0.1 in c:\\users\\mudit\\anaconda3\\lib\\site-packages (from markdown-it-py[linkify,plugins]->gradio) (0.1.2)\n",
      "Requirement already satisfied: mdit-py-plugins in c:\\users\\mudit\\anaconda3\\lib\\site-packages (from markdown-it-py[linkify,plugins]->gradio) (0.3.1)\n",
      "Requirement already satisfied: linkify-it-py~=1.0 in c:\\users\\mudit\\anaconda3\\lib\\site-packages (from markdown-it-py[linkify,plugins]->gradio) (1.0.3)\n",
      "Requirement already satisfied: uc-micro-py in c:\\users\\mudit\\anaconda3\\lib\\site-packages (from linkify-it-py~=1.0->markdown-it-py[linkify,plugins]->gradio) (1.0.1)\n",
      "Requirement already satisfied: packaging>=20.0 in c:\\users\\mudit\\anaconda3\\lib\\site-packages (from matplotlib->gradio) (21.3)\n",
      "Requirement already satisfied: python-dateutil>=2.7 in c:\\users\\mudit\\anaconda3\\lib\\site-packages (from matplotlib->gradio) (2.8.2)\n",
      "Requirement already satisfied: pyparsing>=2.2.1 in c:\\users\\mudit\\anaconda3\\lib\\site-packages (from matplotlib->gradio) (3.0.4)\n",
      "Requirement already satisfied: cycler>=0.10 in c:\\users\\mudit\\anaconda3\\lib\\site-packages (from matplotlib->gradio) (0.11.0)\n",
      "Requirement already satisfied: kiwisolver>=1.0.1 in c:\\users\\mudit\\anaconda3\\lib\\site-packages (from matplotlib->gradio) (1.3.2)\n",
      "Requirement already satisfied: fonttools>=4.22.0 in c:\\users\\mudit\\anaconda3\\lib\\site-packages (from matplotlib->gradio) (4.25.0)\n",
      "Requirement already satisfied: six>=1.5 in c:\\users\\mudit\\anaconda3\\lib\\site-packages (from python-dateutil>=2.7->matplotlib->gradio) (1.16.0)\n",
      "Requirement already satisfied: pytz>=2020.1 in c:\\users\\mudit\\anaconda3\\lib\\site-packages (from pandas->gradio) (2021.3)\n",
      "Requirement already satisfied: bcrypt>=3.1.3 in c:\\users\\mudit\\anaconda3\\lib\\site-packages (from paramiko->gradio) (3.2.0)\n",
      "Requirement already satisfied: pynacl>=1.0.1 in c:\\users\\mudit\\anaconda3\\lib\\site-packages (from paramiko->gradio) (1.4.0)\n",
      "Requirement already satisfied: cryptography>=2.5 in c:\\users\\mudit\\anaconda3\\lib\\site-packages (from paramiko->gradio) (3.4.8)\n",
      "Requirement already satisfied: cffi>=1.1 in c:\\users\\mudit\\anaconda3\\lib\\site-packages (from bcrypt>=3.1.3->paramiko->gradio) (1.15.0)\n",
      "Requirement already satisfied: pycparser in c:\\users\\mudit\\anaconda3\\lib\\site-packages (from cffi>=1.1->bcrypt>=3.1.3->paramiko->gradio) (2.21)\n",
      "Requirement already satisfied: urllib3<1.27,>=1.21.1 in c:\\users\\mudit\\anaconda3\\lib\\site-packages (from requests->gradio) (1.26.9)\n",
      "Requirement already satisfied: click>=7.0 in c:\\users\\mudit\\anaconda3\\lib\\site-packages (from uvicorn->gradio) (8.0.4)\n",
      "Requirement already satisfied: colorama in c:\\users\\mudit\\anaconda3\\lib\\site-packages (from click>=7.0->uvicorn->gradio) (0.4.4)\n"
     ]
    }
   ],
   "source": [
    "!pip install gradio jinja2"
   ]
  },
  {
   "cell_type": "code",
   "execution_count": 113,
   "id": "98cd234f-5eb3-487a-80e0-f9fe582f52bb",
   "metadata": {},
   "outputs": [],
   "source": [
    "import gradio as gr"
   ]
  },
  {
   "cell_type": "code",
   "execution_count": 114,
   "id": "83e47a2c-c281-46ad-ac98-b40969d8f034",
   "metadata": {},
   "outputs": [],
   "source": [
    "def score_comment(comment):\n",
    "    vectorized_comment = vectorizer([comment])\n",
    "    results = model.predict(vectorized_comment)\n",
    "    \n",
    "    text = ''\n",
    "    for idx, col in enumerate(df.columns[2:]):\n",
    "        text += '{}: {}\\n'.format(col, results[0][idx]>0.5)\n",
    "    \n",
    "    return text"
   ]
  },
  {
   "cell_type": "code",
   "execution_count": 115,
   "id": "6627adca-2a91-4971-a549-47d26745d118",
   "metadata": {},
   "outputs": [
    {
     "name": "stderr",
     "output_type": "stream",
     "text": [
      "C:\\Users\\mudit\\anaconda3\\lib\\site-packages\\gradio\\inputs.py:26: UserWarning: Usage of gradio.inputs is deprecated, and will not be supported in the future, please import your component from gradio.components\n",
      "  warnings.warn(\n",
      "C:\\Users\\mudit\\anaconda3\\lib\\site-packages\\gradio\\deprecation.py:40: UserWarning: `optional` parameter is deprecated, and it has no effect\n",
      "  warnings.warn(value)\n",
      "C:\\Users\\mudit\\anaconda3\\lib\\site-packages\\gradio\\deprecation.py:40: UserWarning: `numeric` parameter is deprecated, and it has no effect\n",
      "  warnings.warn(value)\n",
      "C:\\Users\\mudit\\anaconda3\\lib\\site-packages\\gradio\\deprecation.py:40: UserWarning: The 'type' parameter has been deprecated. Use the Number component instead.\n",
      "  warnings.warn(value)\n"
     ]
    },
    {
     "name": "stdout",
     "output_type": "stream",
     "text": [
      "IMPORTANT: You are using gradio version 3.9, however version 3.14.0 is available, please upgrade.\n",
      "--------\n"
     ]
    }
   ],
   "source": [
    "interface = gr.Interface(fn=score_comment, \n",
    "                         inputs=gr.inputs.Textbox(lines=2, placeholder='Comment to score'),\n",
    "                        outputs='text')"
   ]
  },
  {
   "cell_type": "code",
   "execution_count": 116,
   "id": "673f08ee-e975-4517-b6d5-8a2255c2e6f5",
   "metadata": {},
   "outputs": [
    {
     "name": "stdout",
     "output_type": "stream",
     "text": [
      "Running on local URL:  http://127.0.0.1:7860\n",
      "Running on public URL: https://7962c006f0d96de5.gradio.app\n",
      "\n",
      "This share link expires in 72 hours. For free permanent hosting and GPU upgrades (NEW!), check out Spaces: https://huggingface.co/spaces\n"
     ]
    },
    {
     "data": {
      "text/html": [
       "<div><iframe src=\"https://7962c006f0d96de5.gradio.app\" width=\"100%\" height=\"500\" allow=\"autoplay; camera; microphone; clipboard-read; clipboard-write;\" frameborder=\"0\" allowfullscreen></iframe></div>"
      ],
      "text/plain": [
       "<IPython.core.display.HTML object>"
      ]
     },
     "metadata": {},
     "output_type": "display_data"
    },
    {
     "data": {
      "text/plain": [
       "(<gradio.routes.App at 0x1f78f2fdf10>,\n",
       " 'http://127.0.0.1:7860/',\n",
       " 'https://7962c006f0d96de5.gradio.app')"
      ]
     },
     "execution_count": 116,
     "metadata": {},
     "output_type": "execute_result"
    },
    {
     "name": "stdout",
     "output_type": "stream",
     "text": [
      "1/1 [==============================] - 0s 150ms/step\n",
      "1/1 [==============================] - 0s 104ms/step\n",
      "1/1 [==============================] - 0s 141ms/step\n",
      "1/1 [==============================] - 0s 89ms/step\n",
      "1/1 [==============================] - 0s 76ms/step\n",
      "1/1 [==============================] - 0s 76ms/step\n"
     ]
    }
   ],
   "source": [
    "interface.launch(share=True)"
   ]
  },
  {
   "cell_type": "code",
   "execution_count": null,
   "id": "ac250dc4-a539-4489-896e-9d90e3f5d1bc",
   "metadata": {},
   "outputs": [],
   "source": []
  }
 ],
 "metadata": {
  "kernelspec": {
   "display_name": "Python 3 (ipykernel)",
   "language": "python",
   "name": "python3"
  },
  "language_info": {
   "codemirror_mode": {
    "name": "ipython",
    "version": 3
   },
   "file_extension": ".py",
   "mimetype": "text/x-python",
   "name": "python",
   "nbconvert_exporter": "python",
   "pygments_lexer": "ipython3",
   "version": "3.9.12"
  }
 },
 "nbformat": 4,
 "nbformat_minor": 5
}
